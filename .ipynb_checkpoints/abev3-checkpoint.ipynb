{
 "cells": [
  {
   "cell_type": "code",
   "execution_count": 35,
   "id": "124a14f9",
   "metadata": {},
   "outputs": [],
   "source": [
    "import pandas as pd\n",
    "import datetime\n",
    "import plotly.graph_objects as go\n",
    "import plotly.express as px\n",
    "from plotly.subplots import make_subplots"
   ]
  },
  {
   "cell_type": "code",
   "execution_count": 2,
   "id": "225e28c7",
   "metadata": {},
   "outputs": [
    {
     "data": {
      "text/html": [
       "<div>\n",
       "<style scoped>\n",
       "    .dataframe tbody tr th:only-of-type {\n",
       "        vertical-align: middle;\n",
       "    }\n",
       "\n",
       "    .dataframe tbody tr th {\n",
       "        vertical-align: top;\n",
       "    }\n",
       "\n",
       "    .dataframe thead th {\n",
       "        text-align: right;\n",
       "    }\n",
       "</style>\n",
       "<table border=\"1\" class=\"dataframe\">\n",
       "  <thead>\n",
       "    <tr style=\"text-align: right;\">\n",
       "      <th></th>\n",
       "      <th>Date</th>\n",
       "      <th>Open</th>\n",
       "      <th>High</th>\n",
       "      <th>Low</th>\n",
       "      <th>Close</th>\n",
       "      <th>Adj Close</th>\n",
       "      <th>Volume</th>\n",
       "    </tr>\n",
       "  </thead>\n",
       "  <tbody>\n",
       "    <tr>\n",
       "      <th>0</th>\n",
       "      <td>2000-01-05</td>\n",
       "      <td>0.520882</td>\n",
       "      <td>0.520882</td>\n",
       "      <td>0.520882</td>\n",
       "      <td>0.520882</td>\n",
       "      <td>0.321626</td>\n",
       "      <td>985.0</td>\n",
       "    </tr>\n",
       "    <tr>\n",
       "      <th>1</th>\n",
       "      <td>2000-01-06</td>\n",
       "      <td>0.494478</td>\n",
       "      <td>0.494478</td>\n",
       "      <td>0.494478</td>\n",
       "      <td>0.494478</td>\n",
       "      <td>0.305322</td>\n",
       "      <td>227.0</td>\n",
       "    </tr>\n",
       "    <tr>\n",
       "      <th>2</th>\n",
       "      <td>2000-01-07</td>\n",
       "      <td>0.494478</td>\n",
       "      <td>0.494478</td>\n",
       "      <td>0.494478</td>\n",
       "      <td>0.494478</td>\n",
       "      <td>0.305322</td>\n",
       "      <td>151.0</td>\n",
       "    </tr>\n",
       "    <tr>\n",
       "      <th>3</th>\n",
       "      <td>2000-01-10</td>\n",
       "      <td>0.494478</td>\n",
       "      <td>0.494478</td>\n",
       "      <td>0.494478</td>\n",
       "      <td>0.494478</td>\n",
       "      <td>0.305322</td>\n",
       "      <td>1516.0</td>\n",
       "    </tr>\n",
       "    <tr>\n",
       "      <th>4</th>\n",
       "      <td>2000-01-11</td>\n",
       "      <td>0.494478</td>\n",
       "      <td>0.494478</td>\n",
       "      <td>0.494478</td>\n",
       "      <td>0.494478</td>\n",
       "      <td>0.305322</td>\n",
       "      <td>3791.0</td>\n",
       "    </tr>\n",
       "  </tbody>\n",
       "</table>\n",
       "</div>"
      ],
      "text/plain": [
       "         Date      Open      High       Low     Close  Adj Close  Volume\n",
       "0  2000-01-05  0.520882  0.520882  0.520882  0.520882   0.321626   985.0\n",
       "1  2000-01-06  0.494478  0.494478  0.494478  0.494478   0.305322   227.0\n",
       "2  2000-01-07  0.494478  0.494478  0.494478  0.494478   0.305322   151.0\n",
       "3  2000-01-10  0.494478  0.494478  0.494478  0.494478   0.305322  1516.0\n",
       "4  2000-01-11  0.494478  0.494478  0.494478  0.494478   0.305322  3791.0"
      ]
     },
     "execution_count": 2,
     "metadata": {},
     "output_type": "execute_result"
    }
   ],
   "source": [
    "ambev = pd.read_csv(\"ABEV3.SA.csv\", sep=\",\")\n",
    "ambev.head()"
   ]
  },
  {
   "cell_type": "code",
   "execution_count": 3,
   "id": "ddeef6c3",
   "metadata": {},
   "outputs": [
    {
     "data": {
      "text/plain": [
       "Date         0\n",
       "Open         1\n",
       "High         1\n",
       "Low          1\n",
       "Close        1\n",
       "Adj Close    1\n",
       "Volume       1\n",
       "dtype: int64"
      ]
     },
     "execution_count": 3,
     "metadata": {},
     "output_type": "execute_result"
    }
   ],
   "source": [
    "ambev.isnull().sum()"
   ]
  },
  {
   "cell_type": "code",
   "execution_count": 4,
   "id": "afd19dd0",
   "metadata": {},
   "outputs": [
    {
     "data": {
      "text/plain": [
       "Date          object\n",
       "Open         float64\n",
       "High         float64\n",
       "Low          float64\n",
       "Close        float64\n",
       "Adj Close    float64\n",
       "Volume       float64\n",
       "dtype: object"
      ]
     },
     "execution_count": 4,
     "metadata": {},
     "output_type": "execute_result"
    }
   ],
   "source": [
    "ambev.dtypes"
   ]
  },
  {
   "cell_type": "code",
   "execution_count": 19,
   "id": "8d28e971",
   "metadata": {},
   "outputs": [],
   "source": [
    "ambev['Date'] = pd.to_datetime(ambev['Date'])"
   ]
  },
  {
   "cell_type": "code",
   "execution_count": 34,
   "id": "3a0e1298",
   "metadata": {},
   "outputs": [
    {
     "data": {
      "text/html": [
       "<div>\n",
       "<style scoped>\n",
       "    .dataframe tbody tr th:only-of-type {\n",
       "        vertical-align: middle;\n",
       "    }\n",
       "\n",
       "    .dataframe tbody tr th {\n",
       "        vertical-align: top;\n",
       "    }\n",
       "\n",
       "    .dataframe thead th {\n",
       "        text-align: right;\n",
       "    }\n",
       "</style>\n",
       "<table border=\"1\" class=\"dataframe\">\n",
       "  <thead>\n",
       "    <tr style=\"text-align: right;\">\n",
       "      <th></th>\n",
       "      <th>Open</th>\n",
       "      <th>High</th>\n",
       "      <th>Low</th>\n",
       "      <th>Close</th>\n",
       "      <th>Adj Close</th>\n",
       "      <th>Volume</th>\n",
       "    </tr>\n",
       "  </thead>\n",
       "  <tbody>\n",
       "    <tr>\n",
       "      <th>count</th>\n",
       "      <td>30.000000</td>\n",
       "      <td>30.000000</td>\n",
       "      <td>30.000000</td>\n",
       "      <td>30.000000</td>\n",
       "      <td>30.000000</td>\n",
       "      <td>3.000000e+01</td>\n",
       "    </tr>\n",
       "    <tr>\n",
       "      <th>mean</th>\n",
       "      <td>18.544667</td>\n",
       "      <td>18.768000</td>\n",
       "      <td>18.346333</td>\n",
       "      <td>18.549667</td>\n",
       "      <td>16.527629</td>\n",
       "      <td>1.424085e+07</td>\n",
       "    </tr>\n",
       "    <tr>\n",
       "      <th>std</th>\n",
       "      <td>0.549719</td>\n",
       "      <td>0.555694</td>\n",
       "      <td>0.528123</td>\n",
       "      <td>0.554651</td>\n",
       "      <td>0.494190</td>\n",
       "      <td>5.229259e+06</td>\n",
       "    </tr>\n",
       "    <tr>\n",
       "      <th>min</th>\n",
       "      <td>17.910000</td>\n",
       "      <td>18.180000</td>\n",
       "      <td>17.790001</td>\n",
       "      <td>17.910000</td>\n",
       "      <td>15.957691</td>\n",
       "      <td>6.126000e+06</td>\n",
       "    </tr>\n",
       "    <tr>\n",
       "      <th>25%</th>\n",
       "      <td>18.142499</td>\n",
       "      <td>18.312499</td>\n",
       "      <td>17.980000</td>\n",
       "      <td>18.107500</td>\n",
       "      <td>16.133661</td>\n",
       "      <td>1.111652e+07</td>\n",
       "    </tr>\n",
       "    <tr>\n",
       "      <th>50%</th>\n",
       "      <td>18.349999</td>\n",
       "      <td>18.585000</td>\n",
       "      <td>18.144999</td>\n",
       "      <td>18.420001</td>\n",
       "      <td>16.412096</td>\n",
       "      <td>1.302580e+07</td>\n",
       "    </tr>\n",
       "    <tr>\n",
       "      <th>75%</th>\n",
       "      <td>18.887500</td>\n",
       "      <td>19.022501</td>\n",
       "      <td>18.627500</td>\n",
       "      <td>18.859999</td>\n",
       "      <td>16.804133</td>\n",
       "      <td>1.790078e+07</td>\n",
       "    </tr>\n",
       "    <tr>\n",
       "      <th>max</th>\n",
       "      <td>19.950001</td>\n",
       "      <td>20.299999</td>\n",
       "      <td>19.709999</td>\n",
       "      <td>19.889999</td>\n",
       "      <td>17.721857</td>\n",
       "      <td>3.304690e+07</td>\n",
       "    </tr>\n",
       "  </tbody>\n",
       "</table>\n",
       "</div>"
      ],
      "text/plain": [
       "            Open       High        Low      Close  Adj Close        Volume\n",
       "count  30.000000  30.000000  30.000000  30.000000  30.000000  3.000000e+01\n",
       "mean   18.544667  18.768000  18.346333  18.549667  16.527629  1.424085e+07\n",
       "std     0.549719   0.555694   0.528123   0.554651   0.494190  5.229259e+06\n",
       "min    17.910000  18.180000  17.790001  17.910000  15.957691  6.126000e+06\n",
       "25%    18.142499  18.312499  17.980000  18.107500  16.133661  1.111652e+07\n",
       "50%    18.349999  18.585000  18.144999  18.420001  16.412096  1.302580e+07\n",
       "75%    18.887500  19.022501  18.627500  18.859999  16.804133  1.790078e+07\n",
       "max    19.950001  20.299999  19.709999  19.889999  17.721857  3.304690e+07"
      ]
     },
     "execution_count": 34,
     "metadata": {},
     "output_type": "execute_result"
    }
   ],
   "source": [
    "ambev2018 = ambev.loc[(ambev['Date'] >= '2018-06-17') & (ambev['Date'] <= '2018-07-30')]\n",
    "ambev2014 = ambev.loc[(ambev['Date'] >= '2014-06-17') & (ambev['Date'] <= '2014-07-30')]\n",
    "ambev2010 = ambev.loc[(ambev['Date'] >= '2010-06-17') & (ambev['Date'] <= '2010-07-30')]\n",
    "ambev2006 = ambev.loc[(ambev['Date'] >= '2006-06-17') & (ambev['Date'] <= '2006-07-30')]\n",
    "ambev2002 = ambev.loc[(ambev['Date'] >= '2002-06-17') & (ambev['Date'] <= '2002-07-30')]"
   ]
  },
  {
   "cell_type": "code",
   "execution_count": 40,
   "id": "ae5fc2e4",
   "metadata": {},
   "outputs": [
    {
     "ename": "ValueError",
     "evalue": "\nThe 'specs' argument to make_subplots must be a 2D list of dictionaries with dimensions (3 x 3).\n    Received value of type <class 'list'>: [[{'type': 'xy'}, {'type': 'xy'}, {'type': 'xy'}], [{'type': 'xy'}, {'type': 'domain'}, {'type': 'xy'}]]",
     "output_type": "error",
     "traceback": [
      "\u001b[1;31m---------------------------------------------------------------------------\u001b[0m",
      "\u001b[1;31mValueError\u001b[0m                                Traceback (most recent call last)",
      "Input \u001b[1;32mIn [40]\u001b[0m, in \u001b[0;36m<cell line: 4>\u001b[1;34m()\u001b[0m\n\u001b[0;32m      1\u001b[0m specs \u001b[38;5;241m=\u001b[39m [[{\u001b[38;5;124m'\u001b[39m\u001b[38;5;124mtype\u001b[39m\u001b[38;5;124m'\u001b[39m:\u001b[38;5;124m'\u001b[39m\u001b[38;5;124mxy\u001b[39m\u001b[38;5;124m'\u001b[39m}, {\u001b[38;5;124m'\u001b[39m\u001b[38;5;124mtype\u001b[39m\u001b[38;5;124m'\u001b[39m:\u001b[38;5;124m'\u001b[39m\u001b[38;5;124mxy\u001b[39m\u001b[38;5;124m'\u001b[39m}, {\u001b[38;5;124m'\u001b[39m\u001b[38;5;124mtype\u001b[39m\u001b[38;5;124m'\u001b[39m:\u001b[38;5;124m'\u001b[39m\u001b[38;5;124mxy\u001b[39m\u001b[38;5;124m'\u001b[39m}], [{\u001b[38;5;124m'\u001b[39m\u001b[38;5;124mtype\u001b[39m\u001b[38;5;124m'\u001b[39m:\u001b[38;5;124m'\u001b[39m\u001b[38;5;124mxy\u001b[39m\u001b[38;5;124m'\u001b[39m}, {\u001b[38;5;124m'\u001b[39m\u001b[38;5;124mtype\u001b[39m\u001b[38;5;124m'\u001b[39m:\u001b[38;5;124m'\u001b[39m\u001b[38;5;124mdomain\u001b[39m\u001b[38;5;124m'\u001b[39m}, {\u001b[38;5;124m'\u001b[39m\u001b[38;5;124mtype\u001b[39m\u001b[38;5;124m'\u001b[39m:\u001b[38;5;124m'\u001b[39m\u001b[38;5;124mxy\u001b[39m\u001b[38;5;124m'\u001b[39m}]]\n\u001b[0;32m      2\u001b[0m colors \u001b[38;5;241m=\u001b[39m px\u001b[38;5;241m.\u001b[39mcolors\u001b[38;5;241m.\u001b[39mqualitative\u001b[38;5;241m.\u001b[39mswatches()\n\u001b[1;32m----> 4\u001b[0m fig \u001b[38;5;241m=\u001b[39m \u001b[43mmake_subplots\u001b[49m\u001b[43m(\u001b[49m\n\u001b[0;32m      5\u001b[0m \u001b[43m    \u001b[49m\u001b[43mrows\u001b[49m\u001b[38;5;241;43m=\u001b[39;49m\u001b[38;5;241;43m3\u001b[39;49m\u001b[43m,\u001b[49m\u001b[43m \u001b[49m\n\u001b[0;32m      6\u001b[0m \u001b[43m    \u001b[49m\u001b[43mcols\u001b[49m\u001b[38;5;241;43m=\u001b[39;49m\u001b[38;5;241;43m3\u001b[39;49m\u001b[43m,\u001b[49m\n\u001b[0;32m      7\u001b[0m \u001b[43m    \u001b[49m\u001b[43mshared_xaxes\u001b[49m\u001b[38;5;241;43m=\u001b[39;49m\u001b[38;5;124;43m'\u001b[39;49m\u001b[38;5;124;43mcolumns\u001b[39;49m\u001b[38;5;124;43m'\u001b[39;49m\u001b[43m,\u001b[49m\u001b[43m \u001b[49m\u001b[38;5;66;43;03m#colunas\u001b[39;49;00m\n\u001b[0;32m      8\u001b[0m \u001b[43m    \u001b[49m\u001b[43mshared_yaxes\u001b[49m\u001b[38;5;241;43m=\u001b[39;49m\u001b[38;5;124;43m'\u001b[39;49m\u001b[38;5;124;43mrows\u001b[39;49m\u001b[38;5;124;43m'\u001b[39;49m\u001b[43m,\u001b[49m\u001b[43m \u001b[49m\u001b[38;5;66;43;03m# linhas\u001b[39;49;00m\n\u001b[0;32m      9\u001b[0m \u001b[43m    \u001b[49m\u001b[43mcolumn_width\u001b[49m\u001b[43m \u001b[49m\u001b[38;5;241;43m=\u001b[39;49m\u001b[43m \u001b[49m\u001b[43m[\u001b[49m\u001b[38;5;241;43m0.8\u001b[39;49m\u001b[43m,\u001b[49m\u001b[43m \u001b[49m\u001b[38;5;241;43m0.3\u001b[39;49m\u001b[43m]\u001b[49m\u001b[43m,\u001b[49m\u001b[43m \u001b[49m\u001b[38;5;66;43;03m# comprimento\u001b[39;49;00m\n\u001b[0;32m     10\u001b[0m \u001b[43m    \u001b[49m\u001b[43mrow_heights\u001b[49m\u001b[43m \u001b[49m\u001b[38;5;241;43m=\u001b[39;49m\u001b[43m \u001b[49m\u001b[43m[\u001b[49m\u001b[38;5;241;43m0.5\u001b[39;49m\u001b[43m,\u001b[49m\u001b[43m \u001b[49m\u001b[38;5;241;43m0.5\u001b[39;49m\u001b[43m]\u001b[49m\u001b[43m,\u001b[49m\u001b[43m \u001b[49m\u001b[38;5;66;43;03m# Altura\u001b[39;49;00m\n\u001b[0;32m     11\u001b[0m \u001b[43m    \u001b[49m\u001b[43mhorizontal_spacing\u001b[49m\u001b[43m \u001b[49m\u001b[38;5;241;43m=\u001b[39;49m\u001b[43m \u001b[49m\u001b[38;5;241;43m0.010\u001b[39;49m\u001b[43m,\u001b[49m\u001b[43m \u001b[49m\u001b[38;5;66;43;03m# Espaço entre colunas\u001b[39;49;00m\n\u001b[0;32m     12\u001b[0m \u001b[43m    \u001b[49m\u001b[43mvertical_spacing\u001b[49m\u001b[43m \u001b[49m\u001b[38;5;241;43m=\u001b[39;49m\u001b[43m \u001b[49m\u001b[38;5;241;43m0.2\u001b[39;49m\u001b[43m,\u001b[49m\u001b[43m \u001b[49m\u001b[38;5;66;43;03m# Espaço entre linhas \u001b[39;49;00m\n\u001b[0;32m     13\u001b[0m \u001b[43m    \u001b[49m\u001b[43msubplot_titles\u001b[49m\u001b[43m \u001b[49m\u001b[38;5;241;43m=\u001b[39;49m\u001b[43m \u001b[49m\u001b[43m[\u001b[49m\u001b[38;5;124;43m'\u001b[39;49m\u001b[38;5;124;43m2018\u001b[39;49m\u001b[38;5;124;43m'\u001b[39;49m\u001b[43m,\u001b[49m\u001b[43m \u001b[49m\u001b[38;5;124;43m'\u001b[39;49m\u001b[38;5;124;43m2014\u001b[39;49m\u001b[38;5;124;43m'\u001b[39;49m\u001b[43m,\u001b[49m\u001b[43m \u001b[49m\u001b[38;5;124;43m'\u001b[39;49m\u001b[38;5;124;43m2010\u001b[39;49m\u001b[38;5;124;43m'\u001b[39;49m\u001b[43m,\u001b[49m\u001b[43m \u001b[49m\u001b[38;5;124;43m'\u001b[39;49m\u001b[38;5;124;43m2006\u001b[39;49m\u001b[38;5;124;43m'\u001b[39;49m\u001b[43m,\u001b[49m\u001b[38;5;124;43m'\u001b[39;49m\u001b[38;5;124;43m2002\u001b[39;49m\u001b[38;5;124;43m'\u001b[39;49m\u001b[43m]\u001b[49m\u001b[43m,\u001b[49m\u001b[43m \u001b[49m\u001b[38;5;66;43;03m# Titulos nos gráficos\u001b[39;49;00m\n\u001b[0;32m     14\u001b[0m \u001b[43m    \u001b[49m\u001b[43mspecs\u001b[49m\u001b[38;5;241;43m=\u001b[39;49m\u001b[43mspecs\u001b[49m\n\u001b[0;32m     15\u001b[0m \u001b[43m)\u001b[49m\n\u001b[0;32m     17\u001b[0m fig\u001b[38;5;241m.\u001b[39mupdate_layout( \n\u001b[0;32m     18\u001b[0m     template\u001b[38;5;241m=\u001b[39m\u001b[38;5;124m'\u001b[39m\u001b[38;5;124mplotly_white\u001b[39m\u001b[38;5;124m'\u001b[39m, \u001b[38;5;66;03m# Estilo DArk\u001b[39;00m\n\u001b[0;32m     19\u001b[0m     title\u001b[38;5;241m=\u001b[39m\u001b[38;5;124m'\u001b[39m\u001b[38;5;124mAmbev Historico\u001b[39m\u001b[38;5;124m'\u001b[39m,\n\u001b[1;32m   (...)\u001b[0m\n\u001b[0;32m     24\u001b[0m     height\u001b[38;5;241m=\u001b[39m\u001b[38;5;241m800\u001b[39m\n\u001b[0;32m     25\u001b[0m ) \u001b[38;5;66;03m# Titulo na figura\u001b[39;00m\n\u001b[0;32m     29\u001b[0m fig\u001b[38;5;241m.\u001b[39madd_trace(go\u001b[38;5;241m.\u001b[39mScatter(x\u001b[38;5;241m=\u001b[39mambev2018[\u001b[38;5;124m'\u001b[39m\u001b[38;5;124mDate\u001b[39m\u001b[38;5;124m'\u001b[39m], y\u001b[38;5;241m=\u001b[39mambev2018[\u001b[38;5;124m'\u001b[39m\u001b[38;5;124mClose\u001b[39m\u001b[38;5;124m'\u001b[39m], name\u001b[38;5;241m=\u001b[39m\u001b[38;5;124m\"\u001b[39m\u001b[38;5;124m2018\u001b[39m\u001b[38;5;124m\"\u001b[39m), row\u001b[38;5;241m=\u001b[39m\u001b[38;5;241m1\u001b[39m, col\u001b[38;5;241m=\u001b[39m\u001b[38;5;241m1\u001b[39m)\u001b[38;5;66;03m# ações\u001b[39;00m\n",
      "File \u001b[1;32m~\\AppData\\Local\\Programs\\Python\\Python310\\lib\\site-packages\\plotly\\subplots.py:305\u001b[0m, in \u001b[0;36mmake_subplots\u001b[1;34m(rows, cols, shared_xaxes, shared_yaxes, start_cell, print_grid, horizontal_spacing, vertical_spacing, subplot_titles, column_widths, row_heights, specs, insets, column_titles, row_titles, x_title, y_title, figure, **kwargs)\u001b[0m\n\u001b[0;32m      7\u001b[0m \u001b[38;5;28;01mdef\u001b[39;00m \u001b[38;5;21mmake_subplots\u001b[39m(\n\u001b[0;32m      8\u001b[0m     rows\u001b[38;5;241m=\u001b[39m\u001b[38;5;241m1\u001b[39m,\n\u001b[0;32m      9\u001b[0m     cols\u001b[38;5;241m=\u001b[39m\u001b[38;5;241m1\u001b[39m,\n\u001b[1;32m   (...)\u001b[0m\n\u001b[0;32m     26\u001b[0m     \u001b[38;5;241m*\u001b[39m\u001b[38;5;241m*\u001b[39mkwargs,\n\u001b[0;32m     27\u001b[0m ) \u001b[38;5;241m-\u001b[39m\u001b[38;5;241m>\u001b[39m go\u001b[38;5;241m.\u001b[39mFigure:\n\u001b[0;32m     28\u001b[0m     \u001b[38;5;124;03m\"\"\"\u001b[39;00m\n\u001b[0;32m     29\u001b[0m \u001b[38;5;124;03m    Return an instance of plotly.graph_objs.Figure with predefined subplots\u001b[39;00m\n\u001b[0;32m     30\u001b[0m \u001b[38;5;124;03m    configured in 'layout'.\u001b[39;00m\n\u001b[1;32m   (...)\u001b[0m\n\u001b[0;32m    302\u001b[0m \u001b[38;5;124;03m    Figure(...)\u001b[39;00m\n\u001b[0;32m    303\u001b[0m \u001b[38;5;124;03m    \"\"\"\u001b[39;00m\n\u001b[1;32m--> 305\u001b[0m     \u001b[38;5;28;01mreturn\u001b[39;00m _sub\u001b[38;5;241m.\u001b[39mmake_subplots(\n\u001b[0;32m    306\u001b[0m         rows,\n\u001b[0;32m    307\u001b[0m         cols,\n\u001b[0;32m    308\u001b[0m         shared_xaxes,\n\u001b[0;32m    309\u001b[0m         shared_yaxes,\n\u001b[0;32m    310\u001b[0m         start_cell,\n\u001b[0;32m    311\u001b[0m         print_grid,\n\u001b[0;32m    312\u001b[0m         horizontal_spacing,\n\u001b[0;32m    313\u001b[0m         vertical_spacing,\n\u001b[0;32m    314\u001b[0m         subplot_titles,\n\u001b[0;32m    315\u001b[0m         column_widths,\n\u001b[0;32m    316\u001b[0m         row_heights,\n\u001b[0;32m    317\u001b[0m         specs,\n\u001b[0;32m    318\u001b[0m         insets,\n\u001b[0;32m    319\u001b[0m         column_titles,\n\u001b[0;32m    320\u001b[0m         row_titles,\n\u001b[0;32m    321\u001b[0m         x_title,\n\u001b[0;32m    322\u001b[0m         y_title,\n\u001b[0;32m    323\u001b[0m         figure,\n\u001b[0;32m    324\u001b[0m         \u001b[38;5;241m*\u001b[39m\u001b[38;5;241m*\u001b[39mkwargs,\n\u001b[0;32m    325\u001b[0m     )\n",
      "File \u001b[1;32m~\\AppData\\Local\\Programs\\Python\\Python310\\lib\\site-packages\\plotly\\_subplots.py:445\u001b[0m, in \u001b[0;36mmake_subplots\u001b[1;34m(rows, cols, shared_xaxes, shared_yaxes, start_cell, print_grid, horizontal_spacing, vertical_spacing, subplot_titles, column_widths, row_heights, specs, insets, column_titles, row_titles, x_title, y_title, figure, **kwargs)\u001b[0m\n\u001b[0;32m    436\u001b[0m         specs \u001b[38;5;241m=\u001b[39m [[{} \u001b[38;5;28;01mfor\u001b[39;00m c \u001b[38;5;129;01min\u001b[39;00m \u001b[38;5;28mrange\u001b[39m(cols)] \u001b[38;5;28;01mfor\u001b[39;00m r \u001b[38;5;129;01min\u001b[39;00m \u001b[38;5;28mrange\u001b[39m(rows)]\n\u001b[0;32m    437\u001b[0m     \u001b[38;5;28;01melif\u001b[39;00m \u001b[38;5;129;01mnot\u001b[39;00m (\n\u001b[0;32m    438\u001b[0m         \u001b[38;5;28misinstance\u001b[39m(specs, (\u001b[38;5;28mlist\u001b[39m, \u001b[38;5;28mtuple\u001b[39m))\n\u001b[0;32m    439\u001b[0m         \u001b[38;5;129;01mand\u001b[39;00m specs\n\u001b[1;32m   (...)\u001b[0m\n\u001b[0;32m    443\u001b[0m         \u001b[38;5;129;01mand\u001b[39;00m \u001b[38;5;28mall\u001b[39m(\u001b[38;5;28mall\u001b[39m(v \u001b[38;5;129;01mis\u001b[39;00m \u001b[38;5;28;01mNone\u001b[39;00m \u001b[38;5;129;01mor\u001b[39;00m \u001b[38;5;28misinstance\u001b[39m(v, \u001b[38;5;28mdict\u001b[39m) \u001b[38;5;28;01mfor\u001b[39;00m v \u001b[38;5;129;01min\u001b[39;00m row) \u001b[38;5;28;01mfor\u001b[39;00m row \u001b[38;5;129;01min\u001b[39;00m specs)\n\u001b[0;32m    444\u001b[0m     ):\n\u001b[1;32m--> 445\u001b[0m         \u001b[38;5;28;01mraise\u001b[39;00m \u001b[38;5;167;01mValueError\u001b[39;00m(\n\u001b[0;32m    446\u001b[0m             \u001b[38;5;124;03m\"\"\"\u001b[39;00m\n\u001b[0;32m    447\u001b[0m \u001b[38;5;124;03mThe 'specs' argument to make_subplots must be a 2D list of dictionaries with \\\u001b[39;00m\n\u001b[0;32m    448\u001b[0m \u001b[38;5;124;03mdimensions ({rows} x {cols}).\u001b[39;00m\n\u001b[0;32m    449\u001b[0m \u001b[38;5;124;03m    Received value of type {typ}: {val}\"\"\"\u001b[39;00m\u001b[38;5;241m.\u001b[39mformat(\n\u001b[0;32m    450\u001b[0m                 rows\u001b[38;5;241m=\u001b[39mrows, cols\u001b[38;5;241m=\u001b[39mcols, typ\u001b[38;5;241m=\u001b[39m\u001b[38;5;28mtype\u001b[39m(specs), val\u001b[38;5;241m=\u001b[39m\u001b[38;5;28mrepr\u001b[39m(specs)\n\u001b[0;32m    451\u001b[0m             )\n\u001b[0;32m    452\u001b[0m         )\n\u001b[0;32m    454\u001b[0m     \u001b[38;5;28;01mfor\u001b[39;00m row \u001b[38;5;129;01min\u001b[39;00m specs:\n\u001b[0;32m    455\u001b[0m         \u001b[38;5;28;01mfor\u001b[39;00m spec \u001b[38;5;129;01min\u001b[39;00m row:\n\u001b[0;32m    456\u001b[0m             \u001b[38;5;66;03m# For backward compatibility,\u001b[39;00m\n\u001b[0;32m    457\u001b[0m             \u001b[38;5;66;03m# convert is_3d flag to type='scene' kwarg\u001b[39;00m\n",
      "\u001b[1;31mValueError\u001b[0m: \nThe 'specs' argument to make_subplots must be a 2D list of dictionaries with dimensions (3 x 3).\n    Received value of type <class 'list'>: [[{'type': 'xy'}, {'type': 'xy'}, {'type': 'xy'}], [{'type': 'xy'}, {'type': 'domain'}, {'type': 'xy'}]]"
     ]
    }
   ],
   "source": [
    "specs = [[{}, {}, {}], [{}, {}, {}]]\n",
    "colors = px.colors.qualitative.swatches()\n",
    "\n",
    "fig = make_subplots(\n",
    "    rows=3, \n",
    "    cols=3,\n",
    "    shared_xaxes='columns', #colunas\n",
    "    shared_yaxes='rows', # linhas\n",
    "    column_width = [0.8, 0.3], # comprimento\n",
    "    row_heights = [0.5, 0.5], # Altura\n",
    "    horizontal_spacing = 0.010, # Espaço entre colunas\n",
    "    vertical_spacing = 0.2, # Espaço entre linhas \n",
    "    subplot_titles = ['2018', '2014', '2010', '2006','2002'], # Titulos nos gráficos\n",
    "    specs=specs\n",
    ")\n",
    "\n",
    "fig.update_layout( \n",
    "    template='plotly_white', # Estilo DArk\n",
    "    title='Ambev Historico',\n",
    "    legend=dict(bgcolor=\"black\"),\n",
    "    legend_font_color=\"white\",\n",
    "    legend_grouptitlefont_family=\"Balto\",\n",
    "    title_font=dict(color=\"white\"),\n",
    "    height=800\n",
    ") # Titulo na figura\n",
    "\n",
    "\n",
    "\n",
    "fig.add_trace(go.Scatter(x=ambev2018['Date'], y=ambev2018['Close'], name=\"2018\"), row=1, col=1)# ações\n",
    "\n",
    "\n",
    "fig.show()"
   ]
  },
  {
   "cell_type": "code",
   "execution_count": null,
   "id": "80ef73a3",
   "metadata": {},
   "outputs": [],
   "source": []
  }
 ],
 "metadata": {
  "kernelspec": {
   "display_name": "Python 3 (ipykernel)",
   "language": "python",
   "name": "python3"
  },
  "language_info": {
   "codemirror_mode": {
    "name": "ipython",
    "version": 3
   },
   "file_extension": ".py",
   "mimetype": "text/x-python",
   "name": "python",
   "nbconvert_exporter": "python",
   "pygments_lexer": "ipython3",
   "version": "3.10.4"
  }
 },
 "nbformat": 4,
 "nbformat_minor": 5
}
